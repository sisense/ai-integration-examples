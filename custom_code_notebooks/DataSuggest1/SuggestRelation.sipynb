{
    "description": "Suggest relation in a model for a table",
    "icon": "",
    "cellsDisable": [
        0
    ],
    "language": "Python",
    "mode": "Full",
    "serverUrl": "customcode:8888",
    "timeout": 0,
    "group": "AI",
    "isActive": true,
    "isSystem": true,
    "id": "DataSuggest",
    "displayName": "SuggestRelation",
    "codePath": "/work/storage_notebooks/custom_code_notebooks/notebooks/DataSuggest1/DataSuggest1.ipynb",
    "additionalParameters": [
        {
            "description": "Name of table for relation suggestion",
            "name": "table_name",
            "send": true,
            "title": "Table Name",
            "type": "text"
        },
        {
            "description": "Data model name",
            "name": "model_name",
            "send": true,
            "title": "Model Name",
            "type": "text"
        },
        {
            "description": "authentication cookie",
            "name": "cookie",
            "send": true,
            "title": "cookie",
            "type": "text"
        },
        {
            "description": "widget identifier",
            "name": "widgetId",
            "send": true,
            "title": "widgetId",
            "type": "text"
        }
    ],
    "columns": [
        {
            "name": "example",
            "id": "example",
            "type": 2
        }
    ],
    "notebookCode": {
        "cells": [
            {
                "cell_type": "code",
                "execution_count": null,
                "metadata": {},
                "outputs": [],
                "source": [
                    "# Test Cell\n",
                    "# When the notebook is executed by the widget, this cell is ignored. \n",
                    "\n",
                    "import pandas as pd\n",
                    "import sys\n",
                    "import os\n",
                    "import base64\n",
                    "import io\n",
                    "\n",
                    "\n",
                    "df_input = pd.DataFrame()\n",
                    "additional_parameters = \"{\\\"model_name\\\":\\\"ChurnLive\\\",\\\"table_name\\\":\\\"LocationToRegion\\\",\\\"widgetId\\\":\\\"63ac28e77a19050033efd92d\\\"\\\"cookie\\\":\\\"XXX\\\"}\"\n",
                    "\n",
                    "\n",
                    "df_input = pd.DataFrame()\n",
                    "csv_input =  \"QmVmb3JlXG5DT08=\"\n",
                    "print('size of csv_input is:' + str(sys.getsizeof(csv_input)) + ' bytes')\n",
                    "bytes = base64.b64decode(csv_input).decode('unicode_escape')\n",
                    "df_input = pd.read_csv(io.StringIO(bytes), na_values='!#NULL#!')\n",
                    "\n",
                    "# for local develop\n",
                    "# # Insert IP of Sisense instance\n",
                    "# os.environ['API_GATEWAY_EXTERNAL_SERVICE_HOST'] = \"X.X.X.X\"\n",
                    "# # Insert Port of Sisense instance\n",
                    "# os.environ['API_GATEWAY_EXTERNAL_SERVICE_PORT'] = \"30845\"\n",
                    "# # Insert Cookie received by Sisense REST API - '/authentication/tokens/api'\n",
                    "# os.environ['Cookie'] = \"XXX\""
                ]
            },
            {
                "cell_type": "markdown",
                "metadata": {},
                "source": [
                    "# Getting Started\n",
                    "\n",
                    "Welcome to the AI-model (GPT) Data Suggest Notebook.  \n",
                    "\n",
                    "This notebook shows how to get recommendations for relations between columns with GPT model. \n",
                    "The data sends to GPT contins all tables schema in the data model.\n",
                    "\n",
                    "Using this notebook it is possible to:\n",
                    "1. get recommendations for column relations within a data model.\n",
                    "\n",
                    "    \n",
                    "---\n",
                    "\n",
                    "#### Jupyter Notebooks\n",
                    "If you are not familiar with Jupyter Notebooks, we suggest reading about it [here](https://jupyter-notebook.readthedocs.io/en/stable/examples/Notebook/What%20is%20the%20Jupyter%20Notebook.html).\n",
                    "\n",
                    "Get to know the Basics of Jupyter Notebooks, including how to add a New Notebook manually to the Jupyter Server [here](https://jupyter-notebook.readthedocs.io/en/stable/examples/Notebook/Notebook%20Basics.html).\n",
                    "\n",
                    "---\n",
                    "\n",
                    "This Tutorial shows the following basic principles:\n",
                    "1. Examples for API parameters\n",
                    "1. How to create requests to GPT model with data model schema\n",
                    "1. How to parse GPT response\n",
                    "1. how to return the response in html format\n",
                    "---\n",
                    "## Notebook Flow\n",
                    "\n",
                    "![./BloxAIFlows-SuggestRelation.png](./BloxAIFlows-SuggestRelation.png)\n",
                    "---\n",
                    "\n",
                    "## Content\n",
                    "1. [Test Cell](#Test-Cell)\n",
                    "1. [Imports](#Imports)\n",
                    "1. [Additional Parameters](#Additional-Parameters)\n",
                    "1. [Initiaize Global Variables](#Initiaize-Global-Variables)\n",
                    "2. [Get Table/Column Schema From Sisense](#Get-Table/Column-Schema-From-Sisense)\n",
                    "3. [Ask AI Model For Columns Relation](#Ask-AI-Model-For-Columns-Relation)\n",
                    "4. [GenerateOutput Table With Selection Button And Column Ids](#Generate-Output-Table-With-Selection-Button-And-Column-Ids)\n",
                    "5. [Create HTML result](#Create-HTML-result)\n",
                    "\n",
                    "## How to run the notebook\n",
                    "There are two options to execute this notebook, the first, which is the default one is via Jupyter server in Sisense instance. We refer this option as the \"Remote\" option.\n",
                    "\n",
                    "The second one is \"local\" execution via local IDE.\n",
                    "\n",
                    "The default behavior for the code in this notebook is to run in remote.\n",
                    "To run it locally, some code changes are required. To apply the changes, you can uncomment the code under the title - \"for local develop\".\n",
                    "\n",
                    "The changes are in the following cells:\n",
                    "1. [Test Cell](#Test-Cell)\n",
                    "    Insert the IP of Sisense instance to environment variable - \"API_GATEWAY_EXTERNAL_SERVICE_HOST\"\n",
                    "    Insert the Port of Sisense instance to environment variable - \"API_GATEWAY_EXTERNAL_SERVICE_PORT\"\n",
                    "    Insert authentication token for Sisense user to environment variable - \"Cookie\" (How to get Sisense Authentication token is detailed explained [here](https://gitlab.sisense.com/SisenseTeam/DataSciense/bloxai/-/blob/master/README.md))\n",
                    "2. [Imports](#Imports)\n",
                    "    Change the import statements to local repository structure\n",
                    "3. [Additional Parameters](#Additional-Parameters)\n",
                    "    Change to extract authentication token from environment variable - \"Cookie\""
                ]
            },
            {
                "cell_type": "markdown",
                "metadata": {},
                "source": [
                    "# Test Cell\n",
                    "\n",
                    "The First notebook cell is a Test Cell. "
                ]
            },
            {
                "cell_type": "markdown",
                "metadata": {},
                "source": [
                    "### What is a Test Cell ?\n",
                    "The additional parameters in the Test Cell are sample values. Its purpose is to mimic the additional parameters passed to the notebook from the Sisense Data Model build process. By having this test cell, the notebook can be run independently of the build process for debugging or editing purposes.   \n",
                    "When the notebook is executed from the Sisense build process, the test cell is skipped and the additional parameters are passed to the notebook downstream as a JSON string.  \n",
                    "You can change the Test cell location by changing its value in the notebook manifest. The default value is always the first notebook cell (cell 0).   \n",
                    "\n",
                    "> \"cellsDisable\": [0]"
                ]
            },
            {
                "cell_type": "markdown",
                "metadata": {},
                "source": [
                    "# Imports"
                ]
            },
            {
                "cell_type": "code",
                "execution_count": null,
                "metadata": {},
                "outputs": [],
                "source": [
                    "import pandas as pd\n",
                    "import json\n",
                    "\n",
                    "# for remote develop\n",
                    "from AIIntegration import AIIntegration\n",
                    "from AIUtils import AIUtils\n",
                    "\n",
                    "# for local develop\n",
                    "# from src.custom_code_notebooks.AIIntegration import AIIntegration\n",
                    "# from src.custom_code_notebooks.AIUtils import AIUtils"
                ]
            },
            {
                "cell_type": "markdown",
                "metadata": {},
                "source": [
                    "# Additional Parameters\n",
                    "\n",
                    "Load the additional parameters passed from the query process or those initialized in the Test Cell above."
                ]
            },
            {
                "cell_type": "markdown",
                "metadata": {},
                "source": [
                    "In this example multiple parameters are passed to the notebook:\n",
                    "1. model_name: the model name of the dashboard (and widget) requesting the custom code notebook excecution \n",
                    "1. table_name: the table name that will be genereated with the external data\n",
                    "1. cookie: sisense user authentication token\n",
                    "1. widgetId: the widget id of the widget requesting the custom code notebook excecution"
                ]
            },
            {
                "cell_type": "code",
                "execution_count": null,
                "metadata": {},
                "outputs": [],
                "source": [
                    "print (additional_parameters)\n",
                    "add_param = json.loads(additional_parameters,strict=False)\n",
                    "\n",
                    "model_name = add_param['model_name']\n",
                    "table_name = add_param['table_name']\n",
                    "inputWidgetId = add_param['widgetId']\n",
                    "\n",
                    "# for remote develop\n",
                    "cookie = add_param['cookie']\n",
                    "# for local develop\n",
                    "# cookie = os.getenv(\"Cookie\")"
                ]
            },
            {
                "cell_type": "markdown",
                "metadata": {},
                "source": [
                    "# Initialize Global Variables\n",
                    "\n",
                    "the next cell will initialize the following variables:\n",
                    "**abort** - boolean value, indicate if the process got an exception or unexpected behavior and should stop execution.\n",
                    "\n",
                    "**df_result** - dataFrame that will contain the notebook's output, the default value will indicate that 'Something went wrong'.\n",
                    "\n",
                    "**model** - data model object- corresponding to model_name parameter.\n",
                    "\n",
                    "**oai** - a connection to ai integration library\n",
                    "\n",
                    "**utils** - a connection to utils library, contain a logger array that used as time tracking for performance logging. also contain a logger array that used as query tracker for both AI model and Jaql queries.\n",
                    "\n"
                ]
            },
            {
                "cell_type": "code",
                "execution_count": null,
                "metadata": {},
                "outputs": [],
                "source": [
                    "abort = False\n",
                    "utils = AIUtils(inputWidgetId, model_name, add_param, cookie)\n",
                    "utils.add_time('Start')\n",
                    "\n",
                    "df_result = pd.DataFrame(data=['Something went wrong'], columns=['Error'])\n",
                    "\n",
                    "model = utils.get_model(model_name)\n",
                    "datamodelId = model['oid']\n",
                    "\n",
                    "datasetId = model['datasets'][0]['oid']\n",
                    "\n",
                    "\n",
                    "utils.add_time('before import')\n",
                    "oai = AIIntegration(utils)\n",
                    "utils.add_time('After import')\n",
                    "\n",
                    "\n",
                    "utils.write_text_to_log_updates('<H1>AI start searching</H1>')"
                ]
            },
            {
                "cell_type": "markdown",
                "metadata": {},
                "source": [
                    "# Get Table/Column Schema From Sisense\n"
                ]
            },
            {
                "cell_type": "code",
                "execution_count": null,
                "metadata": {},
                "outputs": [],
                "source": [
                    "tables, model_desc, table_to_oid = utils.get_all_tables_info_for_model(model_name)\n",
                    "\n"
                ]
            },
            {
                "cell_type": "markdown",
                "metadata": {},
                "source": [
                    "# Ask AI Model For Columns Relation\n",
                    "Ask for columns relation between input table to other tables in the data model"
                ]
            },
            {
                "cell_type": "code",
                "execution_count": null,
                "metadata": {},
                "outputs": [],
                "source": [
                    "abort, df_result = oai.ask_ai_for_suggest_relation(tables, table_name, df_result)   \n",
                    "\n",
                    "df_result"
                ]
            },
            {
                "cell_type": "markdown",
                "metadata": {},
                "source": [
                    "# Return HTML result\n",
                    "## Steps:\n",
                    "1. Generate Output Table With Selection Button And Column Ids\n",
                    "2. Create HTML result# Generate output table with selection button and column ids"
                ]
            },
            {
                "cell_type": "code",
                "execution_count": null,
                "metadata": {},
                "outputs": [],
                "source": [
                    "if not abort:\n",
                    "    df_result = oai.build_output_table_for_suggest_relation(df_result, table_to_oid, tables, table_name)\n",
                    "    \n",
                    "df_result = utils.generate_html_result(\"\", df_result, \"<br><br><H2>Suggested Relation table</H2><br>\")\n",
                    "df_result"
                ]
            },
            {
                "cell_type": "code",
                "execution_count": null,
                "metadata": {},
                "outputs": [],
                "source": [
                    "# from IPython.display import display, HTML\n",
                    "# display(HTML(\"<html>\" + df_result['output'][0]+\"</html>\"))"
                ]
            },
            {
                "cell_type": "code",
                "execution_count": null,
                "metadata": {},
                "outputs": [],
                "source": []
            }
        ],
        "metadata": {
            "kernelspec": {
                "display_name": "Python 3 (ipykernel)",
                "language": "python",
                "name": "python3"
            },
            "language_info": {
                "codemirror_mode": {
                    "name": "ipython",
                    "version": 3
                },
                "file_extension": ".py",
                "mimetype": "text/x-python",
                "name": "python",
                "nbconvert_exporter": "python",
                "pygments_lexer": "ipython3",
                "version": "3.9.15"
            }
        },
        "nbformat": 4,
        "nbformat_minor": 4
    }
}