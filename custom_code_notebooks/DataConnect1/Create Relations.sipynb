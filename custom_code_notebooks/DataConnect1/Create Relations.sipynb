{
    "description": "Create relation base on select oid",
    "icon": "",
    "cellsDisable": [
        0
    ],
    "language": "Python",
    "mode": "Full",
    "serverUrl": "customcode:8888",
    "timeout": 0,
    "group": "AI",
    "isActive": true,
    "isSystem": true,
    "id": "DataConnect",
    "displayName": "Create Relations",
    "codePath": "/work/storage_notebooks/custom_code_notebooks/notebooks/DataConnect1/DataConnect1.ipynb",
    "additionalParameters": [
        {
            "description": "Data model name",
            "name": "model_name",
            "send": true,
            "title": "Model Name",
            "type": "text"
        },
        {
            "description": "widget identifier",
            "name": "widgetId",
            "send": true,
            "title": "widgetId",
            "type": "text"
        },
        {
            "description": "In format: column1_oid:column2_oid",
            "name": "relation",
            "send": true,
            "title": "Relation To Connect",
            "type": "text"
        },
        {
            "description": "authentication cookie",
            "name": "cookie",
            "send": true,
            "title": "cookie",
            "type": "text"
        }
    ],
    "columns": [
        {
            "name": "example",
            "id": "example",
            "type": 2
        }
    ],
    "notebookCode": {
        "cells": [
            {
                "cell_type": "code",
                "execution_count": null,
                "metadata": {},
                "outputs": [],
                "source": [
                    "# Test Cell\n",
                    "# When the notebook is executed by the widget, this cell is ignored. \n",
                    "# See the `Test Cell` section below for further details.\n",
                    "import pandas as pd\n",
                    "import sys\n",
                    "import os\n",
                    "import base64\n",
                    "import io\n",
                    "\n",
                    "\n",
                    "df_input = pd.DataFrame()\n",
                    "\n",
                    "additional_parameters = \"{\\\"model_name\\\":\\\"Sample ECommerce\\\",\"+ \\\n",
                    "    \"\\\"widgetId\\\":\\\"63ac28e77a19050033efd92d\\\",\\\"relation\\\":\\\"column1_oid:column2_oid\\\",\"+ \\\n",
                    "    \"\\\"cookie\\\":\\\"XXX\\\"}\"\n",
                    "\n",
                    "\n",
                    "csv_input =  \"QmVmb3JlXG5DT08=\"\n",
                    "print('size of csv_input is:' + str(sys.getsizeof(csv_input)) + ' bytes')\n",
                    "bytes = base64.b64decode(csv_input).decode('unicode_escape')\n",
                    "df_input = pd.read_csv(io.StringIO(bytes), na_values='!#NULL#!')\n",
                    "\n",
                    "# for local develop\n",
                    "# # Insert IP of Sisense instance\n",
                    "# os.environ['API_GATEWAY_EXTERNAL_SERVICE_HOST'] = \"X.X.X.X\"\n",
                    "# # Insert Port of Sisense instance\n",
                    "# os.environ['API_GATEWAY_EXTERNAL_SERVICE_PORT'] = \"30845\"\n",
                    "# # Insert Cookie received by Sisense REST API - '/authentication/tokens/api'\n",
                    "# os.environ['Cookie'] = \"XXX\""
                ]
            },
            {
                "cell_type": "markdown",
                "metadata": {},
                "source": [
                    "# Getting Started\n",
                    "\n",
                    "Welcome to the AI-model (GPT) Data Connect Notebook.  \n",
                    "\n",
                    "This notebook shows how to use Sisense API to connect between two tables. Using this notebook it is possible to:\n",
                    "1. Create a relation between two columns within a live model. \n",
                    "\n",
                    "\n",
                    "---\n",
                    "\n",
                    "#### Jupyter Notebooks\n",
                    "If you are not familiar with Jupyter Notebooks, we suggest reading about it [here](https://jupyter-notebook.readthedocs.io/en/stable/examples/Notebook/What%20is%20the%20Jupyter%20Notebook.html).\n",
                    "\n",
                    "Get to know the Basics of Jupyter Notebooks, including how to add a New Notebook manually to the Jupyter Server [here](https://jupyter-notebook.readthedocs.io/en/stable/examples/Notebook/Notebook%20Basics.html).\n",
                    "\n",
                    "---\n",
                    "\n",
                    "This Tutorial shows the following basic principles:\n",
                    "1. Examples for API parameters\n",
                    "\n",
                    "---\n",
                    "## Notebook Flow\n",
                    "![./BloxAIFlows-ConnectRelation.png](./BloxAIFlows-ConnectRelation.png)\n",
                    "---\n",
                    "\n",
                    "## Content\n",
                    "  \n",
                    "1. [Test Cell](#Test-Cell)\n",
                    "2. [Imports](#Imports)\n",
                    "1. [Additional Parameters](#Additional-Parameters)\n",
                    "1. [Initialize Global Variables](#Initialize-Global-Variables)\n",
                    "2. [Create A Relation Between Input Columns](#Create-A-Relation-Between-Input-Columns)\n",
                    "3. [Publish The Model](#Publish-The-Model)\n",
                    "4. [Return HTML Result](#Return-HTML-Result)\n",
                    "\n",
                    "## How to run the notebook\n",
                    "There are two options to execute this notebook, the first, which is the default one is via Jupyter server in Sisense instance. We refer this option as the \"Remote\" option.\n",
                    "\n",
                    "The second one is \"local\" execution via local IDE.\n",
                    "\n",
                    "The default behavior for the code in this notebook is to run in remote.\n",
                    "To run it locally, some code changes are required. To apply the changes, you can uncomment the code under the title - \"for local develop\".\n",
                    "\n",
                    "The changes are in the following cells:\n",
                    "1. [Test Cell](#Test-Cell)\n",
                    "    Insert the IP of Sisense instance to environment variable - \"API_GATEWAY_EXTERNAL_SERVICE_HOST\"\n",
                    "    Insert the Port of Sisense instance to environment variable - \"API_GATEWAY_EXTERNAL_SERVICE_PORT\"\n",
                    "    Insert authentication token for Sisense user to environment variable - \"Cookie\" (How to get Sisense Authentication token is detailed explained [here](https://gitlab.sisense.com/SisenseTeam/DataSciense/bloxai/-/blob/master/README.md))\n",
                    "2. [Imports](#Imports)\n",
                    "    Change the import statements to local repository structure\n",
                    "3. [Additional Parameters](#Additional-Parameters)\n",
                    "    Change to extract authentication token from environment variable - \"Cookie\""
                ]
            },
            {
                "cell_type": "markdown",
                "metadata": {},
                "source": [
                    "# Test Cell\n",
                    "\n",
                    "The First notebook cell is a Test Cell. "
                ]
            },
            {
                "cell_type": "markdown",
                "metadata": {},
                "source": [
                    "### What is a Test Cell ?\n",
                    "The additional parameters in the Test Cell are sample values. Its purpose is to mimic the additional parameters passed to the notebook from the Sisense Data Model build process. By having this test cell, the notebook can be run independently of the build process for debugging or editing purposes.   \n",
                    "When the notebook is executed from the Sisense build process, the test cell is skipped and the additional parameters are passed to the notebook downstream as a JSON string.  \n",
                    "You can change the Test cell location by changing its value in the notebook manifest. The default value is always the first notebook cell (cell 0).   \n",
                    "\n",
                    "> \"cellsDisable\": [0]\n"
                ]
            },
            {
                "cell_type": "markdown",
                "metadata": {},
                "source": [
                    "# Imports"
                ]
            },
            {
                "cell_type": "code",
                "execution_count": null,
                "metadata": {},
                "outputs": [],
                "source": [
                    "import json\n",
                    "\n",
                    "\n",
                    "# for remote develop\n",
                    "from AIIntegration import AIIntegration\n",
                    "from AIUtils import AIUtils\n",
                    "\n",
                    "# for local develop\n",
                    "# from src.custom_code_notebooks.AIIntegration import AIIntegration\n",
                    "# from src.custom_code_notebooks.AIUtils import AIUtils"
                ]
            },
            {
                "cell_type": "markdown",
                "metadata": {},
                "source": [
                    "# Additional Parameters\n",
                    "\n",
                    "Load the additional parameters passed from the query process or those initialized in the Test Cell above."
                ]
            },
            {
                "cell_type": "markdown",
                "metadata": {},
                "source": [
                    "In this example multiple parameters are passed to the notebook:\n",
                    "1. widgetId: the widget id of the widget requesting the custom code notebook excecution\n",
                    "1. model_name: the model name of the dashboard (and widget) requesting the custom code notebook excecution \n",
                    "1. table_name: the table name that will be genereated with the external data\n",
                    "1. cookie: sisense user authentication token"
                ]
            },
            {
                "cell_type": "code",
                "execution_count": null,
                "metadata": {},
                "outputs": [],
                "source": [
                    "print (additional_parameters)\n",
                    "add_param = json.loads(additional_parameters,strict=False)\n",
                    "\n",
                    "model_name = add_param['model_name']\n",
                    "inputWidgetId = add_param['widgetId']\n",
                    "all_relations = add_param['relation']\n",
                    "\n",
                    "# for remote develop\n",
                    "cookie = add_param['cookie']\n",
                    "# for local develop\n",
                    "# cookie = os.getenv(\"Cookie\")"
                ]
            },
            {
                "cell_type": "markdown",
                "metadata": {},
                "source": [
                    "# Initialize Global Variables\n",
                    "\n",
                    "the next cell will initialize the following variables:\n",
                    "\n",
                    "**abort** - boolean value, indicate if the process got an exception or unexpected behavior and should stop execution.\n",
                    "\n",
                    "**df_result** - dataFrame that will contain the notebook's output, the default value will indicate that 'Something went wrong'.\n",
                    "\n",
                    "**model** - data model object- corresponding to model_name parameter.\n",
                    "\n",
                    "**oai** - a connection to ai integration library\n",
                    "\n",
                    "**utils** - a connection to utils library, contain a logger array that used as time tracking for performance logging. also contain a logger array that used as query tracker for both AI model and Jaql queries."
                ]
            },
            {
                "cell_type": "code",
                "execution_count": null,
                "metadata": {},
                "outputs": [],
                "source": [
                    "abort = False\n",
                    "utils = AIUtils(inputWidgetId, model_name, add_param, cookie)\n",
                    "utils.add_time('Start')\n",
                    "\n",
                    "df_result = pd.DataFrame(data=['Something went wrong'], columns=['Error'])\n",
                    "\n",
                    "model = utils.get_model(model_name)\n",
                    "datamodelId = model['oid']\n",
                    "\n",
                    "datasetId = model['datasets'][0]['oid']\n",
                    "\n",
                    "\n",
                    "utils.add_time('before import')\n",
                    "oai = AIIntegration(utils)\n",
                    "utils.add_time('After import')"
                ]
            },
            {
                "cell_type": "markdown",
                "metadata": {},
                "source": [
                    "# Create A Relation Between Input Columns\n",
                    "Each input relation contains the oid for both columns to connect, seperated by \":\", if multiple relations are given, they will be seperated with \",\""
                ]
            },
            {
                "cell_type": "code",
                "execution_count": null,
                "metadata": {},
                "outputs": [],
                "source": [
                    "relations_list = all_relations.split(',')\n",
                    "for relation in relations_list: \n",
                    "    relation = utils.get_relation_schema(relation, model)\n",
                    "    utils.create_relation(datamodelId, relation)\n"
                ]
            },
            {
                "cell_type": "markdown",
                "metadata": {},
                "source": [
                    "# Publish The Model\n"
                ]
            },
            {
                "cell_type": "code",
                "execution_count": null,
                "metadata": {},
                "outputs": [],
                "source": [
                    "utils.publish_model(model_name, datamodelId)"
                ]
            },
            {
                "cell_type": "markdown",
                "metadata": {},
                "source": [
                    "# Return HTML Result\n"
                ]
            },
            {
                "cell_type": "code",
                "execution_count": null,
                "metadata": {},
                "outputs": [],
                "source": [
                    "data = [\"<P>Connected the tables<P>\"]\n",
                    "df_result = pd.DataFrame(data=data, columns=['output'])\n",
                    "df_result"
                ]
            }
        ],
        "metadata": {
            "kernelspec": {
                "display_name": "Python 3 (ipykernel)",
                "language": "python",
                "name": "python3"
            },
            "language_info": {
                "codemirror_mode": {
                    "name": "ipython",
                    "version": 3
                },
                "file_extension": ".py",
                "mimetype": "text/x-python",
                "name": "python",
                "nbconvert_exporter": "python",
                "pygments_lexer": "ipython3",
                "version": "3.9.15"
            }
        },
        "nbformat": 4,
        "nbformat_minor": 4
    }
}